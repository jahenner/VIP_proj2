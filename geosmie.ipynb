{
 "cells": [
  {
   "cell_type": "markdown",
   "id": "11157a88",
   "metadata": {},
   "source": [
    "# Test run for GEOSmie in cybershuttle\n",
    "\n",
    "## Setting up Airavata"
   ]
  },
  {
   "cell_type": "code",
   "execution_count": 1,
   "id": "6be2ccfc",
   "metadata": {},
   "outputs": [
    {
     "name": "stdout",
     "output_type": "stream",
     "text": [
      "\u001b[33mDEPRECATION: Loading egg at /home/jahenner/miniconda3/envs/geosmile/lib/python3.11/site-packages/pymiecoated-0.2.0-py3.11.egg is deprecated. pip 25.1 will enforce this behaviour change. A possible replacement is to use pip for package installation. Discussion can be found at https://github.com/pypa/pip/issues/12330\u001b[0m\u001b[33m\n",
      "\u001b[0mNote: you may need to restart the kernel to use updated packages.\n",
      "\n",
      "Loaded airavata_jupyter_magic (2.0.12) \n",
      "(current runtime = local)\n",
      "\n",
      "  %authenticate                      -- Authenticate to access high-performance runtimes.\n",
      "  %request_runtime <rt> [args]       -- Request a runtime named <rt> with configuration <args>. Call multiple times to request multiple runtimes.\n",
      "  %restart_runtime <rt>              -- Restart runtime <rt>. Run this if you install new dependencies or if the runtime hangs.\n",
      "  %stop_runtime <rt>                 -- Stop runtime <rt> when no longer needed.\n",
      "  %switch_runtime <rt>               -- Switch active runtime to <rt>. All subsequent executions will use this runtime.\n",
      "  %%run_on <rt>                      -- Force a cell to always execute on <rt>, regardless of the active runtime.\n",
      "  %stat_runtime <rt>                 -- Show the status of runtime <rt>.\n",
      "  %copy_data <r1:file1> <r2:file2>   -- Copy <file1> in <r1> to <file2> in <r2>.\n",
      "\n"
     ]
    }
   ],
   "source": [
    "%pip install -q --no-cache-dir --force-reinstall airavata-python-sdk[notebook]\n",
    "import airavata_jupyter_magic"
   ]
  },
  {
   "cell_type": "markdown",
   "id": "d6b10eb2",
   "metadata": {},
   "source": [
    "## Trying to connect to cybershuttle"
   ]
  },
  {
   "cell_type": "code",
   "execution_count": 2,
   "id": "6092ec92",
   "metadata": {},
   "outputs": [
    {
     "data": {
      "application/vnd.jupyter.widget-view+json": {
       "model_id": "9bb7b51acd9648ddb42a19dbffbb2c29",
       "version_major": 2,
       "version_minor": 0
      },
      "text/plain": [
       "Output()"
      ]
     },
     "metadata": {},
     "output_type": "display_data"
    },
    {
     "data": {
      "text/html": [
       "<pre style=\"white-space:pre;overflow-x:auto;line-height:normal;font-family:Menlo,'DejaVu Sans Mono',consolas,'Courier New',monospace\">Authenticated.\n",
       "</pre>\n"
      ],
      "text/plain": [
       "Authenticated.\n"
      ]
     },
     "metadata": {},
     "output_type": "display_data"
    },
    {
     "data": {
      "text/html": [
       "<pre style=\"white-space:pre;overflow-x:auto;line-height:normal;font-family:Menlo,'DejaVu Sans Mono',consolas,'Courier New',monospace\"></pre>\n"
      ],
      "text/plain": []
     },
     "metadata": {},
     "output_type": "display_data"
    },
    {
     "data": {
      "text/html": [
       "<pre style=\"white-space:pre;overflow-x:auto;line-height:normal;font-family:Menlo,'DejaVu Sans Mono',consolas,'Courier New',monospace\"></pre>\n"
      ],
      "text/plain": []
     },
     "metadata": {},
     "output_type": "display_data"
    }
   ],
   "source": [
    "%authenticate"
   ]
  },
  {
   "cell_type": "code",
   "execution_count": 3,
   "id": "b5e9e761",
   "metadata": {},
   "outputs": [
    {
     "name": "stdout",
     "output_type": "stream",
     "text": [
      "Requesting runtime=hpc_cpu\n",
      "cpuCount: 4\n",
      "experimentName: CS_Agent\n",
      "group: Default\n",
      "libraries:\n",
      "- python=3.11\n",
      "- pip\n",
      "- numpy\n",
      "- scipy\n",
      "- ncview\n",
      "- numba\n",
      "- setuptools\n",
      "- wheel\n",
      "- build\n",
      "- pyproject_hooks\n",
      "- packaging\n",
      "memory: 0\n",
      "mounts:\n",
      "- GEOSmie:/cybershuttle_data/GEOSmie\n",
      "nodeCount: 1\n",
      "pip: []\n",
      "queue: cloud\n",
      "remoteCluster: NeuroData25VC1\n",
      "wallTime: 60\n",
      "\n"
     ]
    },
    {
     "name": "stdout",
     "output_type": "stream",
     "text": [
      "Requested runtime=hpc_cpu. state=CONFIGURING_WORKSPACE\n",
      "Switched to runtime=hpc_cpu.\n"
     ]
    }
   ],
   "source": [
    "%request_runtime hpc_cpu --file=cybershuttle.yml --walltime=60 --use=NeuroData25VC1:cloud,expanse:shared,anvil:shared\n",
    "%switch_runtime hpc_cpu"
   ]
  },
  {
   "cell_type": "code",
   "execution_count": 3,
   "id": "a89f3d0b",
   "metadata": {},
   "outputs": [
    {
     "name": "stdout",
     "output_type": "stream",
     "text": [
      "\u001b[2K\u001b[32m⠴\u001b[0m Connecting to=hpc_cpu.....\n",
      "\u001b[1A\u001b[2K"
     ]
    },
    {
     "ename": "InvalidStateError",
     "evalue": "Runtime=hpc_cpu is in state=EXPERIMENT_FAILED\nprocess  failed",
     "output_type": "error",
     "traceback": [
      "\u001b[31m---------------------------------------------------------------------------\u001b[39m",
      "\u001b[31mInvalidStateError\u001b[39m                         Traceback (most recent call last)",
      "\u001b[36mFile \u001b[39m\u001b[32m~/miniconda3/envs/geosmile/lib/python3.11/site-packages/IPython/core/async_helpers.py:128\u001b[39m, in \u001b[36m_pseudo_sync_runner\u001b[39m\u001b[34m(coro)\u001b[39m\n\u001b[32m    120\u001b[39m \u001b[38;5;250m\u001b[39m\u001b[33;03m\"\"\"\u001b[39;00m\n\u001b[32m    121\u001b[39m \u001b[33;03mA runner that does not really allow async execution, and just advance the coroutine.\u001b[39;00m\n\u001b[32m    122\u001b[39m \n\u001b[32m   (...)\u001b[39m\u001b[32m    125\u001b[39m \u001b[33;03mCredit to Nathaniel Smith\u001b[39;00m\n\u001b[32m    126\u001b[39m \u001b[33;03m\"\"\"\u001b[39;00m\n\u001b[32m    127\u001b[39m \u001b[38;5;28;01mtry\u001b[39;00m:\n\u001b[32m--> \u001b[39m\u001b[32m128\u001b[39m     \u001b[43mcoro\u001b[49m\u001b[43m.\u001b[49m\u001b[43msend\u001b[49m\u001b[43m(\u001b[49m\u001b[38;5;28;43;01mNone\u001b[39;49;00m\u001b[43m)\u001b[49m\n\u001b[32m    129\u001b[39m \u001b[38;5;28;01mexcept\u001b[39;00m \u001b[38;5;167;01mStopIteration\u001b[39;00m \u001b[38;5;28;01mas\u001b[39;00m exc:\n\u001b[32m    130\u001b[39m     \u001b[38;5;28;01mreturn\u001b[39;00m exc.value\n",
      "\u001b[36mFile \u001b[39m\u001b[32m~/miniconda3/envs/geosmile/lib/python3.11/site-packages/airavata_jupyter_magic/__init__.py:973\u001b[39m, in \u001b[36mrun_cell_async\u001b[39m\u001b[34m(raw_cell, store_history, silent, shell_futures, transformed_cell, preprocessing_exc_tuple, cell_id)\u001b[39m\n\u001b[32m    971\u001b[39m result = ExecutionResult(info=\u001b[38;5;28;01mNone\u001b[39;00m)\n\u001b[32m    972\u001b[39m \u001b[38;5;28;01mtry\u001b[39;00m:\n\u001b[32m--> \u001b[39m\u001b[32m973\u001b[39m     \u001b[43mwait_until_runtime_ready\u001b[49m\u001b[43m(\u001b[49m\u001b[43maccess_token\u001b[49m\u001b[43m,\u001b[49m\u001b[43m \u001b[49m\u001b[43mrt\u001b[49m\u001b[43m)\u001b[49m\n\u001b[32m    974\u001b[39m     run_on_runtime(rt, raw_cell, result)\n\u001b[32m    975\u001b[39m \u001b[38;5;28;01mexcept\u001b[39;00m \u001b[38;5;167;01mException\u001b[39;00m \u001b[38;5;28;01mas\u001b[39;00m e:\n",
      "\u001b[36mFile \u001b[39m\u001b[32m~/miniconda3/envs/geosmile/lib/python3.11/site-packages/airavata_jupyter_magic/__init__.py:386\u001b[39m, in \u001b[36mwait_until_runtime_ready\u001b[39m\u001b[34m(access_token, rt_name)\u001b[39m\n\u001b[32m    384\u001b[39m \u001b[38;5;28;01mwith\u001b[39;00m console.status(\u001b[33mf\u001b[39m\u001b[33m\"\u001b[39m\u001b[33mConnecting to=\u001b[39m\u001b[38;5;132;01m{\u001b[39;00mrt_name\u001b[38;5;132;01m}\u001b[39;00m\u001b[33m...\u001b[39m\u001b[33m\"\u001b[39m) \u001b[38;5;28;01mas\u001b[39;00m status:\n\u001b[32m    385\u001b[39m     \u001b[38;5;28;01mwhile\u001b[39;00m \u001b[38;5;28;01mTrue\u001b[39;00m:\n\u001b[32m--> \u001b[39m\u001b[32m386\u001b[39m         ready, rstate = \u001b[43mis_runtime_ready\u001b[49m\u001b[43m(\u001b[49m\u001b[43maccess_token\u001b[49m\u001b[43m,\u001b[49m\u001b[43m \u001b[49m\u001b[43mrt\u001b[49m\u001b[43m,\u001b[49m\u001b[43m \u001b[49m\u001b[43mrt_name\u001b[49m\u001b[43m)\u001b[49m\n\u001b[32m    387\u001b[39m         \u001b[38;5;28;01mif\u001b[39;00m ready:\n\u001b[32m    388\u001b[39m             status.update(\u001b[33mf\u001b[39m\u001b[33m\"\u001b[39m\u001b[33mConnecting to=\u001b[39m\u001b[38;5;132;01m{\u001b[39;00mrt_name\u001b[38;5;132;01m}\u001b[39;00m\u001b[33m... status=CONNECTED\u001b[39m\u001b[33m\"\u001b[39m)\n",
      "\u001b[36mFile \u001b[39m\u001b[32m~/miniconda3/envs/geosmile/lib/python3.11/site-packages/airavata_jupyter_magic/__init__.py:146\u001b[39m, in \u001b[36mis_runtime_ready\u001b[39m\u001b[34m(access_token, rt, rt_name)\u001b[39m\n\u001b[32m    144\u001b[39m \u001b[38;5;28;01mif\u001b[39;00m exstate \u001b[38;5;129;01min\u001b[39;00m TERMINAL_STATES:\n\u001b[32m    145\u001b[39m     msg = \u001b[33mf\u001b[39m\u001b[33m\"\u001b[39m\u001b[33mRuntime=\u001b[39m\u001b[38;5;132;01m{\u001b[39;00mrt_name\u001b[38;5;132;01m}\u001b[39;00m\u001b[33m is in state=EXPERIMENT_\u001b[39m\u001b[38;5;132;01m{\u001b[39;00mexstate.name\u001b[38;5;132;01m}\u001b[39;00m\u001b[38;5;130;01m\\n\u001b[39;00m\u001b[38;5;132;01m{\u001b[39;00mreason\u001b[38;5;132;01m}\u001b[39;00m\u001b[33m\"\u001b[39m\n\u001b[32m--> \u001b[39m\u001b[32m146\u001b[39m     \u001b[38;5;28;01mraise\u001b[39;00m InvalidStateError(msg)\n\u001b[32m    148\u001b[39m \u001b[38;5;66;03m# second, check the state of each processes\u001b[39;00m\n\u001b[32m    149\u001b[39m pid, pstate = get_process_state(rt.experimentId, headers)\n",
      "\u001b[31mInvalidStateError\u001b[39m: Runtime=hpc_cpu is in state=EXPERIMENT_FAILED\nprocess  failed"
     ]
    }
   ],
   "source": [
    "print(\"Hello\")"
   ]
  }
 ],
 "metadata": {
  "kernelspec": {
   "display_name": "geosmile",
   "language": "python",
   "name": "python3"
  },
  "language_info": {
   "codemirror_mode": {
    "name": "ipython",
    "version": 3
   },
   "file_extension": ".py",
   "mimetype": "text/x-python",
   "name": "python",
   "nbconvert_exporter": "python",
   "pygments_lexer": "ipython3",
   "version": "3.11.12"
  }
 },
 "nbformat": 4,
 "nbformat_minor": 5
}
